{
 "metadata": {
  "language_info": {
   "codemirror_mode": {
    "name": "ipython",
    "version": 3
   },
   "file_extension": ".py",
   "mimetype": "text/x-python",
   "name": "python",
   "nbconvert_exporter": "python",
   "pygments_lexer": "ipython3",
   "version": "3.8.3-final"
  },
  "orig_nbformat": 2,
  "kernelspec": {
   "name": "python38364bitpytorch15conda66ec6d5e3fa643b1827bb47602f599d9",
   "display_name": "Python 3.8.3 64-bit ('pytorch1.5': conda)"
  }
 },
 "nbformat": 4,
 "nbformat_minor": 2,
 "cells": [
  {
   "cell_type": "code",
   "execution_count": 1,
   "metadata": {},
   "outputs": [],
   "source": [
    "import numpy as np\n",
    "from data_loader.data_loaders import NinaPro_Dataset\n",
    "from sklearn.model_selection import train_test_split\n",
    "from sklearn.tree import DecisionTreeClassifier\n",
    "from sklearn.ensemble import RandomForestClassifier"
   ]
  },
  {
   "cell_type": "code",
   "execution_count": 2,
   "metadata": {
    "tags": []
   },
   "outputs": [
    {
     "output_type": "stream",
     "name": "stderr",
     "text": "Feature Extraction: 100%|██████████| 72/72 [00:00<00:00, 112.60it/s]\nFeature Extraction: 100%|██████████| 76/76 [00:00<00:00, 130.34it/s]\nFeature Extraction: 100%|██████████| 73/73 [00:00<00:00, 117.05it/s]\nFeature Extraction: 100%|██████████| 74/74 [00:00<00:00, 110.24it/s]\nFeature Extraction: 100%|██████████| 72/72 [00:00<00:00, 167.39it/s]\nFeature Extraction: 100%|██████████| 74/74 [00:00<00:00, 126.24it/s]\nFeature Extraction: 100%|██████████| 75/75 [00:00<00:00, 126.05it/s]\nFeature Extraction: 100%|██████████| 76/76 [00:00<00:00, 131.76it/s]\nFeature Extraction: 100%|██████████| 80/80 [00:00<00:00, 139.70it/s]\nFeature Extraction: 100%|██████████| 75/75 [00:00<00:00, 128.81it/s]\nFeature Extraction: 100%|██████████| 72/72 [00:00<00:00, 142.33it/s]\nFeature Extraction: 100%|██████████| 70/70 [00:00<00:00, 120.20it/s]\nFeature Extraction: 100%|██████████| 78/78 [00:00<00:00, 165.48it/s]\nFeature Extraction: 100%|██████████| 80/80 [00:00<00:00, 144.99it/s]\nFeature Extraction: 100%|██████████| 75/75 [00:00<00:00, 148.79it/s]\nFeature Extraction: 100%|██████████| 80/80 [00:00<00:00, 143.12it/s]\nFeature Extraction: 100%|██████████| 77/77 [00:00<00:00, 125.56it/s]\nFeature Extraction: 100%|██████████| 69/69 [00:00<00:00, 121.73it/s]\nFeature Extraction: 100%|██████████| 79/79 [00:00<00:00, 102.67it/s]\nFeature Extraction: 100%|██████████| 72/72 [00:00<00:00, 116.40it/s]\nFeature Extraction: 100%|██████████| 76/76 [00:00<00:00, 116.25it/s]\nFeature Extraction: 100%|██████████| 80/80 [00:00<00:00, 148.68it/s]\nFeature Extraction: 100%|██████████| 76/76 [00:00<00:00, 121.46it/s]\nFeature Extraction: 100%|██████████| 74/74 [00:00<00:00, 151.17it/s]\nFeature Extraction: 100%|██████████| 70/70 [00:00<00:00, 125.69it/s]\nFeature Extraction: 100%|██████████| 76/76 [00:00<00:00, 174.00it/s]\nFeature Extraction: 100%|██████████| 79/79 [00:00<00:00, 106.44it/s]\nFeature Extraction: 100%|██████████| 75/75 [00:00<00:00, 130.10it/s]\nFeature Extraction: 100%|██████████| 80/80 [00:00<00:00, 112.09it/s]\nFeature Extraction: 100%|██████████| 72/72 [00:00<00:00, 120.78it/s]\nFeature Extraction: 100%|██████████| 79/79 [00:00<00:00, 158.50it/s]\nFeature Extraction: 100%|██████████| 78/78 [00:00<00:00, 108.13it/s]\nFeature Extraction: 100%|██████████| 72/72 [00:00<00:00, 129.82it/s]\nFeature Extraction: 100%|██████████| 70/70 [00:00<00:00, 103.90it/s]\nFeature Extraction: 100%|██████████| 75/75 [00:00<00:00, 112.13it/s]\nFeature Extraction: 100%|██████████| 72/72 [00:00<00:00, 107.23it/s]\nFeature Extraction: 100%|██████████| 78/78 [00:00<00:00, 127.57it/s]\nFeature Extraction: 100%|██████████| 72/72 [00:00<00:00, 141.20it/s]\nFeature Extraction: 100%|██████████| 72/72 [00:00<00:00, 132.88it/s]\nFeature Extraction: 100%|██████████| 75/75 [00:00<00:00, 120.14it/s]\nFeature Extraction: 100%|██████████| 76/76 [00:00<00:00, 118.95it/s]\nFeature Extraction: 100%|██████████| 80/80 [00:00<00:00, 113.08it/s]\nFeature Extraction: 100%|██████████| 80/80 [00:00<00:00, 125.83it/s]\nFeature Extraction: 100%|██████████| 80/80 [00:00<00:00, 120.08it/s]\nFeature Extraction: 100%|██████████| 74/74 [00:00<00:00, 138.63it/s]\nFeature Extraction: 100%|██████████| 73/73 [00:00<00:00, 80.75it/s]\nFeature Extraction: 100%|██████████| 73/73 [00:00<00:00, 112.89it/s]\nFeature Extraction: 100%|██████████| 79/79 [00:00<00:00, 111.10it/s]\nFeature Extraction: 100%|██████████| 78/78 [00:00<00:00, 116.02it/s]\nFeature Extraction: 100%|██████████| 75/75 [00:00<00:00, 114.62it/s]\nFeature Extraction: 100%|██████████| 72/72 [00:00<00:00, 105.81it/s]\nFeature Extraction: 100%|██████████| 77/77 [00:00<00:00, 82.63it/s]\nFeature Extraction: 100%|██████████| 67/67 [00:00<00:00, 255.82it/s]\nFeature Extraction: 100%|██████████| 77/77 [00:00<00:00, 235.22it/s]\nFeature Extraction: 100%|██████████| 77/77 [00:00<00:00, 226.74it/s]\nFeature Extraction: 100%|██████████| 67/67 [00:00<00:00, 262.94it/s]\nFeature Extraction: 100%|██████████| 70/70 [00:00<00:00, 357.19it/s]\nFeature Extraction: 100%|██████████| 57/57 [00:00<00:00, 227.16it/s]\nFeature Extraction: 100%|██████████| 70/70 [00:00<00:00, 239.48it/s]\nFeature Extraction: 100%|██████████| 70/70 [00:00<00:00, 259.09it/s]\nFeature Extraction: 100%|██████████| 64/64 [00:00<00:00, 255.08it/s]\nFeature Extraction: 100%|██████████| 75/75 [00:00<00:00, 374.96it/s]\nFeature Extraction: 100%|██████████| 70/70 [00:00<00:00, 336.43it/s]\nFeature Extraction: 100%|██████████| 57/57 [00:00<00:00, 234.76it/s]\nFeature Extraction: 100%|██████████| 57/57 [00:00<00:00, 166.49it/s]\nFeature Extraction: 100%|██████████| 64/64 [00:00<00:00, 252.54it/s]\nFeature Extraction: 100%|██████████| 67/67 [00:00<00:00, 255.95it/s]\nFeature Extraction: 100%|██████████| 60/60 [00:00<00:00, 244.29it/s]\nFeature Extraction: 100%|██████████| 80/80 [00:00<00:00, 334.83it/s]\nFeature Extraction: 100%|██████████| 64/64 [00:00<00:00, 247.00it/s]\nFeature Extraction: 100%|██████████| 74/74 [00:00<00:00, 245.23it/s]\nFeature Extraction: 100%|██████████| 74/74 [00:00<00:00, 200.89it/s]\nFeature Extraction: 100%|██████████| 63/63 [00:00<00:00, 182.13it/s]\nFeature Extraction: 100%|██████████| 80/80 [00:00<00:00, 294.04it/s]\nFeature Extraction: 100%|██████████| 80/80 [00:00<00:00, 404.26it/s]\nFeature Extraction: 100%|██████████| 60/60 [00:00<00:00, 198.12it/s]\nFeature Extraction: 100%|██████████| 70/70 [00:00<00:00, 386.67it/s]\nFeature Extraction: 100%|██████████| 57/57 [00:00<00:00, 279.98it/s]\nFeature Extraction: 100%|██████████| 64/64 [00:00<00:00, 205.56it/s]\nFeature Extraction: 100%|██████████| 67/67 [00:00<00:00, 244.24it/s]\nFeature Extraction: 100%|██████████| 74/74 [00:00<00:00, 279.84it/s]\nFeature Extraction: 100%|██████████| 77/77 [00:00<00:00, 270.08it/s]\nFeature Extraction: 100%|██████████| 60/60 [00:00<00:00, 214.07it/s]\nFeature Extraction: 100%|██████████| 80/80 [00:00<00:00, 339.23it/s]\nFeature Extraction: 100%|██████████| 80/80 [00:00<00:00, 314.19it/s]\nFeature Extraction: 100%|██████████| 77/77 [00:00<00:00, 259.58it/s]\nFeature Extraction: 100%|██████████| 57/57 [00:00<00:00, 239.79it/s]\nFeature Extraction: 100%|██████████| 70/70 [00:00<00:00, 222.89it/s]\nFeature Extraction: 100%|██████████| 70/70 [00:00<00:00, 228.35it/s]\nFeature Extraction: 100%|██████████| 80/80 [00:00<00:00, 235.89it/s]\nFeature Extraction: 100%|██████████| 80/80 [00:00<00:00, 390.38it/s]\nFeature Extraction: 100%|██████████| 70/70 [00:00<00:00, 255.07it/s]\nFeature Extraction: 100%|██████████| 64/64 [00:00<00:00, 221.81it/s]\nFeature Extraction: 100%|██████████| 57/57 [00:00<00:00, 200.84it/s]\nFeature Extraction: 100%|██████████| 64/64 [00:00<00:00, 238.56it/s]\nFeature Extraction: 100%|██████████| 70/70 [00:00<00:00, 248.61it/s]\nFeature Extraction: 100%|██████████| 67/67 [00:00<00:00, 242.91it/s]\nFeature Extraction: 100%|██████████| 80/80 [00:00<00:00, 243.97it/s]\nFeature Extraction: 100%|██████████| 57/57 [00:00<00:00, 256.17it/s]\nFeature Extraction: 100%|██████████| 70/70 [00:00<00:00, 230.45it/s]\nFeature Extraction: 100%|██████████| 74/74 [00:00<00:00, 268.73it/s]\nFeature Extraction: 100%|██████████| 74/74 [00:00<00:00, 185.88it/s]\nFeature Extraction: 100%|██████████| 80/80 [00:00<00:00, 269.80it/s]\nFeature Extraction: 100%|██████████| 68/68 [00:00<00:00, 168.01it/s]\nDimension of feature space:  (2605, 220)\nTests samples numbers:  (1005, 220)\n"
    }
   ],
   "source": [
    "train = NinaPro_Dataset(DB=1, subject=10, trainRepeatIndex=[0,1,3,4,6,8,9,10])\n",
    "tests = NinaPro_Dataset(DB=1, subject=10, trainRepeatIndex=[2,5,7])\n",
    "print('Dimension of feature space: ', train.Xs.shape)\n",
    "print('Tests samples numbers: ', tests.Xs.shape)"
   ]
  },
  {
   "cell_type": "code",
   "execution_count": 24,
   "metadata": {
    "tags": []
   },
   "outputs": [
    {
     "output_type": "stream",
     "name": "stdout",
     "text": "Train:  1.0\nTests:  0.8676616915422886\n"
    }
   ],
   "source": [
    "# clf = DecisionTreeClassifier()\n",
    "clf = RandomForestClassifier()\n",
    "clf.fit(train.Xs, train.Ys)\n",
    "print('Train: ', clf.score(train.Xs, train.Ys))\n",
    "print('Tests: ', clf.score(tests.Xs, tests.Ys))"
   ]
  },
  {
   "cell_type": "markdown",
   "metadata": {
    "tags": []
   },
   "source": [
    "# AdaBoost\n"
   ]
  },
  {
   "cell_type": "code",
   "execution_count": 5,
   "metadata": {
    "tags": []
   },
   "outputs": [
    {
     "output_type": "stream",
     "name": "stdout",
     "text": "Train:  0.090978886756238\nTests:  0.09850746268656717\n"
    }
   ],
   "source": [
    "from sklearn.ensemble import AdaBoostClassifier\n",
    "clf = AdaBoostClassifier(n_estimators=100, random_state=0)\n",
    "clf.fit(train.Xs, train.Ys)\n",
    "print('Train: ', clf.score(train.Xs, train.Ys))\n",
    "print('Tests: ', clf.score(tests.Xs, tests.Ys))"
   ]
  },
  {
   "cell_type": "markdown",
   "metadata": {},
   "source": [
    "# XGBoost\n"
   ]
  },
  {
   "cell_type": "code",
   "execution_count": 23,
   "metadata": {
    "tags": []
   },
   "outputs": [
    {
     "output_type": "stream",
     "name": "stdout",
     "text": "Train:  1.0\nTests:  0.8029850746268656\n"
    }
   ],
   "source": [
    "import xgboost as xgb\n",
    "from sklearn.metrics import accuracy_score\n",
    "\n",
    "clf = xgb.sklearn.XGBClassifier(n_estimators=100,\n",
    "                                max_depth=5)\n",
    "clf.fit(train.Xs, train.Ys.squeeze(1))\n",
    "print('Train: ', accuracy_score(train.Ys, clf.predict(train.Xs)) )\n",
    "print('Tests: ', accuracy_score(tests.Ys, clf.predict(tests.Xs)) )"
   ]
  }
 ]
}